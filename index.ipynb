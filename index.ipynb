{
 "cells": [
  {
   "cell_type": "code",
   "execution_count": 1,
   "id": "71b2a0cd",
   "metadata": {},
   "outputs": [
    {
     "name": "stdout",
     "output_type": "stream",
     "text": [
      "Requirement already satisfied: pygame in c:\\users\\ychan\\anaconda3\\lib\\site-packages (2.5.1)Note: you may need to restart the kernel to use updated packages.\n",
      "\n"
     ]
    }
   ],
   "source": [
    "\n",
    "pip install pygame"
   ]
  },
  {
   "cell_type": "code",
   "execution_count": 3,
   "id": "0e09cbe8",
   "metadata": {},
   "outputs": [
    {
     "name": "stdout",
     "output_type": "stream",
     "text": [
      "pygame 2.5.1 (SDL 2.28.2, Python 3.11.4)\n",
      "Hello from the pygame community. https://www.pygame.org/contribute.html\n"
     ]
    }
   ],
   "source": [
    "import pygame"
   ]
  },
  {
   "cell_type": "code",
   "execution_count": 4,
   "id": "1754be49",
   "metadata": {},
   "outputs": [],
   "source": [
    "pygame.mixer.init()"
   ]
  },
  {
   "cell_type": "code",
   "execution_count": 5,
   "id": "29100c94",
   "metadata": {},
   "outputs": [],
   "source": [
    "\n",
    "sound = pygame.mixer.Sound(r'C:\\Users\\ychan\\Downloads\\Get Got.mp3') "
   ]
  },
  {
   "cell_type": "code",
   "execution_count": 11,
   "id": "16662448",
   "metadata": {},
   "outputs": [],
   "source": [
    "sound = pygame.mixer.Sound(str(r'C:\\Users\\ychan\\Downloads\\Get Got.mp3'))\n",
    "channel = sound.play()"
   ]
  },
  {
   "cell_type": "code",
   "execution_count": 12,
   "id": "865b2610",
   "metadata": {},
   "outputs": [],
   "source": [
    "pygame.mixer.pause()"
   ]
  },
  {
   "cell_type": "code",
   "execution_count": 13,
   "id": "c96cc1a8",
   "metadata": {},
   "outputs": [],
   "source": [
    "pygame.mixer.stop()"
   ]
  },
  {
   "cell_type": "code",
   "execution_count": 16,
   "id": "11528ee7",
   "metadata": {},
   "outputs": [],
   "source": [
    "pygame.quit()"
   ]
  },
  {
   "cell_type": "code",
   "execution_count": null,
   "id": "e13d651b",
   "metadata": {},
   "outputs": [],
   "source": []
  }
 ],
 "metadata": {
  "kernelspec": {
   "display_name": "Python 3 (ipykernel)",
   "language": "python",
   "name": "python3"
  },
  "language_info": {
   "codemirror_mode": {
    "name": "ipython",
    "version": 3
   },
   "file_extension": ".py",
   "mimetype": "text/x-python",
   "name": "python",
   "nbconvert_exporter": "python",
   "pygments_lexer": "ipython3",
   "version": "3.11.4"
  }
 },
 "nbformat": 4,
 "nbformat_minor": 5
}
